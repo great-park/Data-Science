{
  "cells": [
    {
      "cell_type": "markdown",
      "metadata": {
        "id": "view-in-github",
        "colab_type": "text"
      },
      "source": [
        "<a href=\"https://colab.research.google.com/github/great-park/Data-Science/blob/main/hw3.ipynb\" target=\"_parent\"><img src=\"https://colab.research.google.com/assets/colab-badge.svg\" alt=\"Open In Colab\"/></a>"
      ]
    },
    {
      "cell_type": "markdown",
      "metadata": {
        "id": "uchZsTUr-c9r"
      },
      "source": [
        "# HW 3: Spam/Ham Classification\n",
        "## Due Date: 5/31 (Wed), 11:59 PM\n",
        "\n",
        "**Collaboration Policy**\n",
        "\n",
        "Data science is a collaborative activity. While you may talk with others about\n",
        "the project, we ask that you **write your solutions individually**. If you do\n",
        "discuss the assignments with others please **include their names** at the top\n",
        "of your notebook."
      ]
    },
    {
      "cell_type": "markdown",
      "metadata": {
        "id": "BZm3TdH3-c9s"
      },
      "source": [
        "**Collaborators**: *list collaborators here*"
      ]
    },
    {
      "cell_type": "markdown",
      "metadata": {
        "id": "npb43RFZ-c9s"
      },
      "source": [
        "## This Assignment\n",
        "In this homework, you will use what you've learned in class to create a classifier that can distinguish spam (junk or commercial or bulk) emails from ham (non-spam) emails. In addition to providing some skeleton code to fill in, we will evaluate your work based on your model's accuracy and your written responses in this notebook.\n",
        "\n",
        "After this homework, you should feel comfortable with the following:\n",
        "\n",
        "- Part 1: Feature engineering with text data\n",
        "- Part 2: Using sklearn libraries to process data and fit models\n",
        "- Part 3: Validating the performance of your model and minimizing overfitting\n",
        "- Part 3: Generating and analyzing precision-recall curves\n",
        "\n",
        "## <span style=\"color:red\">Warning!</span> \n",
        "We've tried our best to filter the data for anything blatantly offensive as best as we can, but unfortunately there may still be some examples you may find in poor taste. If you encounter these examples and believe it is inappropriate for students, please let a TA know and we will try to remove it for future semesters. Thanks for your understanding!"
      ]
    },
    {
      "cell_type": "markdown",
      "metadata": {
        "id": "zyVLHHS3-c9t"
      },
      "source": [
        "## Score Breakdown\n",
        "Question | Points\n",
        "--- | ---\n",
        "1a | 2\n",
        "1b | 2\n",
        "1c | 2\n",
        "2 | 3\n",
        "3 | 3\n",
        "4 | 3\n",
        "5 | 3\n",
        "6a | 3\n",
        "6b | 3\n",
        "6c | 3\n",
        "6d | 3\n",
        "7 | 4\n",
        "8 | 4\n",
        "Total | 38"
      ]
    },
    {
      "cell_type": "markdown",
      "metadata": {
        "id": "lGGE7QCC-c9t"
      },
      "source": [
        "# Part I - Initial Analysis"
      ]
    },
    {
      "cell_type": "code",
      "execution_count": null,
      "metadata": {
        "id": "-O2DiZBt-c9t"
      },
      "outputs": [],
      "source": [
        "import numpy as np\n",
        "import pandas as pd\n",
        "import matplotlib.pyplot as plt\n",
        "%matplotlib inline\n",
        "\n",
        "import seaborn as sns\n",
        "sns.set(style = \"whitegrid\", \n",
        "        color_codes = True,\n",
        "        font_scale = 1.5)\n",
        "\n",
        "class bcolor:\n",
        "   BLACK = '\\033[40m'\n",
        "   YELLOW = '\\033[93m'\n",
        "   RED = '\\033[91m'\n",
        "   BOLD = '\\033[1m'\n",
        "   END = '\\033[0m'\n",
        "\n",
        "def print_passed(str_in):\n",
        "  print(bcolor.BLACK + bcolor.YELLOW + bcolor.BOLD + str_in + bcolor.END)"
      ]
    },
    {
      "cell_type": "markdown",
      "metadata": {
        "id": "tOKYwC_X_Tom"
      },
      "source": [
        "## Mount your Google Drive\n",
        "When you run a code cell, Colab executes it on a temporary cloud instance.  Every time you open the notebook, you will be assigned a different machine.  All compute state and files saved on the previous machine will be lost.  Therefore, you may need to re-download datasets or rerun code after a reset. Here, you can mount your Google drive to the temporary cloud instance's local filesystem using the following code snippet and save files under the specified directory (note that you will have to provide permission every time you run this)."
      ]
    },
    {
      "cell_type": "code",
      "execution_count": null,
      "metadata": {
        "colab": {
          "base_uri": "https://localhost:8080/"
        },
        "id": "JpuWdTnn_QUH",
        "outputId": "d0b3a1ed-1509-4979-f3a2-13aacd9f70ee"
      },
      "outputs": [
        {
          "output_type": "stream",
          "name": "stdout",
          "text": [
            "Mounted at /content/drive\n",
            "\n",
            "Number of Google drive files in /content/drive/My Drive/:\n",
            "21\n",
            "\n",
            "Current directory:\n",
            "/content\n"
          ]
        }
      ],
      "source": [
        "# mount Google drive\n",
        "from google.colab import drive\n",
        "drive.mount('/content/drive')\n",
        "\n",
        "# now you can see files\n",
        "!echo -e \"\\nNumber of Google drive files in /content/drive/My Drive/:\"\n",
        "!ls -l \"/content/drive/My Drive/\" | wc -l\n",
        "# by the way, you can run any linux command by putting a ! at the start of the line\n",
        "\n",
        "# by default everything gets executed and saved in /content/\n",
        "!echo -e \"\\nCurrent directory:\"\n",
        "!pwd"
      ]
    },
    {
      "cell_type": "code",
      "execution_count": null,
      "metadata": {
        "colab": {
          "base_uri": "https://localhost:8080/"
        },
        "id": "phWTu0ph_nhP",
        "outputId": "fcd32cdf-deeb-461d-e082-be67632c5ddc"
      },
      "outputs": [
        {
          "output_type": "stream",
          "name": "stdout",
          "text": [
            "Current Workspace: /content/drive/MyDrive/Lectures/COSE471/hw/hw3\n"
          ]
        }
      ],
      "source": [
        "workspace_path = '/content/drive/MyDrive/Lectures/COSE471/hw/hw3'  # Change this path!\n",
        "print(f'Current Workspace: {workspace_path}')"
      ]
    },
    {
      "cell_type": "markdown",
      "metadata": {
        "id": "7Y2hj5A8-c9u"
      },
      "source": [
        "### Loading in the Data\n",
        "\n",
        "Our goal is to classify emails as spam or not spam (referred to as \"ham\") using features generated from the text in the email. \n",
        "\n",
        "The dataset consists of email messages and their labels (0 for ham, 1 for spam). Your labeled training dataset contains 8348 labeled examples, and the test set contains 1000 unlabeled examples.\n",
        "\n",
        "Run the following cells to load in the data into DataFrames.\n",
        "\n",
        "The `train` DataFrame contains labeled data that you will use to train your model. It contains four columns:\n",
        "\n",
        "1. `id`: An identifier for the training example\n",
        "1. `subject`: The subject of the email\n",
        "1. `email`: The text of the email\n",
        "1. `spam`: 1 if the email is spam, 0 if the email is ham (not spam)\n",
        "\n",
        "The `test` DataFrame contains 1000 unlabeled emails. You will predict labels for these emails and submit your predictions to Kaggle for evaluation."
      ]
    },
    {
      "cell_type": "code",
      "execution_count": null,
      "metadata": {
        "colab": {
          "base_uri": "https://localhost:8080/",
          "height": 337
        },
        "id": "ybZYxrch-c9u",
        "outputId": "39cd47ec-d77e-48e0-fb8b-aa4ab2b41e02"
      },
      "outputs": [
        {
          "output_type": "execute_result",
          "data": {
            "text/plain": [
              "   id                                            subject  \\\n",
              "0   0  Subject: A&L Daily to be auctioned in bankrupt...   \n",
              "1   1  Subject: Wired: \"Stronger ties between ISPs an...   \n",
              "2   2  Subject: It's just too small                  ...   \n",
              "3   3                      Subject: liberal defnitions\\n   \n",
              "4   4  Subject: RE: [ILUG] Newbie seeks advice - Suse...   \n",
              "\n",
              "                                               email  spam  \n",
              "0  url: http://boingboing.net/#85534171\\n date: n...     0  \n",
              "1  url: http://scriptingnews.userland.com/backiss...     0  \n",
              "2  <html>\\n <head>\\n </head>\\n <body>\\n <font siz...     1  \n",
              "3  depends on how much over spending vs. how much...     0  \n",
              "4  hehe sorry but if you hit caps lock twice the ...     0  "
            ],
            "text/html": [
              "\n",
              "  <div id=\"df-07713ae0-4490-496d-a99a-474bbf1167b9\">\n",
              "    <div class=\"colab-df-container\">\n",
              "      <div>\n",
              "<style scoped>\n",
              "    .dataframe tbody tr th:only-of-type {\n",
              "        vertical-align: middle;\n",
              "    }\n",
              "\n",
              "    .dataframe tbody tr th {\n",
              "        vertical-align: top;\n",
              "    }\n",
              "\n",
              "    .dataframe thead th {\n",
              "        text-align: right;\n",
              "    }\n",
              "</style>\n",
              "<table border=\"1\" class=\"dataframe\">\n",
              "  <thead>\n",
              "    <tr style=\"text-align: right;\">\n",
              "      <th></th>\n",
              "      <th>id</th>\n",
              "      <th>subject</th>\n",
              "      <th>email</th>\n",
              "      <th>spam</th>\n",
              "    </tr>\n",
              "  </thead>\n",
              "  <tbody>\n",
              "    <tr>\n",
              "      <th>0</th>\n",
              "      <td>0</td>\n",
              "      <td>Subject: A&amp;L Daily to be auctioned in bankrupt...</td>\n",
              "      <td>url: http://boingboing.net/#85534171\\n date: n...</td>\n",
              "      <td>0</td>\n",
              "    </tr>\n",
              "    <tr>\n",
              "      <th>1</th>\n",
              "      <td>1</td>\n",
              "      <td>Subject: Wired: \"Stronger ties between ISPs an...</td>\n",
              "      <td>url: http://scriptingnews.userland.com/backiss...</td>\n",
              "      <td>0</td>\n",
              "    </tr>\n",
              "    <tr>\n",
              "      <th>2</th>\n",
              "      <td>2</td>\n",
              "      <td>Subject: It's just too small                  ...</td>\n",
              "      <td>&lt;html&gt;\\n &lt;head&gt;\\n &lt;/head&gt;\\n &lt;body&gt;\\n &lt;font siz...</td>\n",
              "      <td>1</td>\n",
              "    </tr>\n",
              "    <tr>\n",
              "      <th>3</th>\n",
              "      <td>3</td>\n",
              "      <td>Subject: liberal defnitions\\n</td>\n",
              "      <td>depends on how much over spending vs. how much...</td>\n",
              "      <td>0</td>\n",
              "    </tr>\n",
              "    <tr>\n",
              "      <th>4</th>\n",
              "      <td>4</td>\n",
              "      <td>Subject: RE: [ILUG] Newbie seeks advice - Suse...</td>\n",
              "      <td>hehe sorry but if you hit caps lock twice the ...</td>\n",
              "      <td>0</td>\n",
              "    </tr>\n",
              "  </tbody>\n",
              "</table>\n",
              "</div>\n",
              "      <button class=\"colab-df-convert\" onclick=\"convertToInteractive('df-07713ae0-4490-496d-a99a-474bbf1167b9')\"\n",
              "              title=\"Convert this dataframe to an interactive table.\"\n",
              "              style=\"display:none;\">\n",
              "        \n",
              "  <svg xmlns=\"http://www.w3.org/2000/svg\" height=\"24px\"viewBox=\"0 0 24 24\"\n",
              "       width=\"24px\">\n",
              "    <path d=\"M0 0h24v24H0V0z\" fill=\"none\"/>\n",
              "    <path d=\"M18.56 5.44l.94 2.06.94-2.06 2.06-.94-2.06-.94-.94-2.06-.94 2.06-2.06.94zm-11 1L8.5 8.5l.94-2.06 2.06-.94-2.06-.94L8.5 2.5l-.94 2.06-2.06.94zm10 10l.94 2.06.94-2.06 2.06-.94-2.06-.94-.94-2.06-.94 2.06-2.06.94z\"/><path d=\"M17.41 7.96l-1.37-1.37c-.4-.4-.92-.59-1.43-.59-.52 0-1.04.2-1.43.59L10.3 9.45l-7.72 7.72c-.78.78-.78 2.05 0 2.83L4 21.41c.39.39.9.59 1.41.59.51 0 1.02-.2 1.41-.59l7.78-7.78 2.81-2.81c.8-.78.8-2.07 0-2.86zM5.41 20L4 18.59l7.72-7.72 1.47 1.35L5.41 20z\"/>\n",
              "  </svg>\n",
              "      </button>\n",
              "      \n",
              "  <style>\n",
              "    .colab-df-container {\n",
              "      display:flex;\n",
              "      flex-wrap:wrap;\n",
              "      gap: 12px;\n",
              "    }\n",
              "\n",
              "    .colab-df-convert {\n",
              "      background-color: #E8F0FE;\n",
              "      border: none;\n",
              "      border-radius: 50%;\n",
              "      cursor: pointer;\n",
              "      display: none;\n",
              "      fill: #1967D2;\n",
              "      height: 32px;\n",
              "      padding: 0 0 0 0;\n",
              "      width: 32px;\n",
              "    }\n",
              "\n",
              "    .colab-df-convert:hover {\n",
              "      background-color: #E2EBFA;\n",
              "      box-shadow: 0px 1px 2px rgba(60, 64, 67, 0.3), 0px 1px 3px 1px rgba(60, 64, 67, 0.15);\n",
              "      fill: #174EA6;\n",
              "    }\n",
              "\n",
              "    [theme=dark] .colab-df-convert {\n",
              "      background-color: #3B4455;\n",
              "      fill: #D2E3FC;\n",
              "    }\n",
              "\n",
              "    [theme=dark] .colab-df-convert:hover {\n",
              "      background-color: #434B5C;\n",
              "      box-shadow: 0px 1px 3px 1px rgba(0, 0, 0, 0.15);\n",
              "      filter: drop-shadow(0px 1px 2px rgba(0, 0, 0, 0.3));\n",
              "      fill: #FFFFFF;\n",
              "    }\n",
              "  </style>\n",
              "\n",
              "      <script>\n",
              "        const buttonEl =\n",
              "          document.querySelector('#df-07713ae0-4490-496d-a99a-474bbf1167b9 button.colab-df-convert');\n",
              "        buttonEl.style.display =\n",
              "          google.colab.kernel.accessAllowed ? 'block' : 'none';\n",
              "\n",
              "        async function convertToInteractive(key) {\n",
              "          const element = document.querySelector('#df-07713ae0-4490-496d-a99a-474bbf1167b9');\n",
              "          const dataTable =\n",
              "            await google.colab.kernel.invokeFunction('convertToInteractive',\n",
              "                                                     [key], {});\n",
              "          if (!dataTable) return;\n",
              "\n",
              "          const docLinkHtml = 'Like what you see? Visit the ' +\n",
              "            '<a target=\"_blank\" href=https://colab.research.google.com/notebooks/data_table.ipynb>data table notebook</a>'\n",
              "            + ' to learn more about interactive tables.';\n",
              "          element.innerHTML = '';\n",
              "          dataTable['output_type'] = 'display_data';\n",
              "          await google.colab.output.renderOutput(dataTable, element);\n",
              "          const docLink = document.createElement('div');\n",
              "          docLink.innerHTML = docLinkHtml;\n",
              "          element.appendChild(docLink);\n",
              "        }\n",
              "      </script>\n",
              "    </div>\n",
              "  </div>\n",
              "  "
            ]
          },
          "metadata": {},
          "execution_count": 4
        }
      ],
      "source": [
        "original_training_data = pd.read_csv(f'{workspace_path}/train.csv')\n",
        "test = pd.read_csv(f'{workspace_path}/test.csv')\n",
        "\n",
        "# Convert the emails to lower case as a first step to processing the text\n",
        "original_training_data['email'] = original_training_data['email'].str.lower()\n",
        "test['email'] = test['email'].str.lower()\n",
        "\n",
        "original_training_data.head()"
      ]
    },
    {
      "cell_type": "markdown",
      "metadata": {
        "id": "LYeMW2mz-c9v"
      },
      "source": [
        "### Question 1a\n",
        "First, let's check if our data contains any missing values. \n",
        "\n",
        "- Step1: Fill in the cell below to print the number of NaN values in each column. **Hint**: [pandas.isnull](https://pandas.pydata.org/docs/reference/api/pandas.isnull.html)\n",
        "- Step2: If there are NaN values, replace them with appropriate filler values (i.e., NaN values in the `subject` or `email` columns should be replaced with empty strings). \n",
        "- Step3: Print the number of NaN values in each column after this modification to verify that there are no NaN values left.\n",
        "\n",
        "<!--\n",
        "BEGIN QUESTION\n",
        "name: q1a\n",
        "points: 1\n",
        "-->"
      ]
    },
    {
      "cell_type": "code",
      "execution_count": null,
      "metadata": {
        "colab": {
          "base_uri": "https://localhost:8080/"
        },
        "id": "vREZl_jS-c9v",
        "outputId": "4bd147d2-4747-49d4-ae59-beae1a9be21e"
      },
      "outputs": [
        {
          "output_type": "stream",
          "name": "stdout",
          "text": [
            "Before imputation:\n",
            "id         0\n",
            "subject    6\n",
            "email      0\n",
            "spam       0\n",
            "dtype: int64\n",
            "------------\n",
            "After imputation:\n",
            "id         0\n",
            "subject    0\n",
            "email      0\n",
            "spam       0\n",
            "dtype: int64\n"
          ]
        }
      ],
      "source": [
        "# BEGIN YOUR CODE\n",
        "# -----------------------\n",
        "print('Before imputation:')\n",
        "print(original_training_data.isnull().sum())\n",
        "print('------------')\n",
        "\n",
        "# Replace NaN values with empty strings\n",
        "original_training_data = original_training_data.fillna('')\n",
        "\n",
        "print('After imputation:')\n",
        "print(original_training_data.isnull().sum())\n",
        "# -----------------------\n",
        "# END YOUR CODE"
      ]
    },
    {
      "cell_type": "code",
      "execution_count": null,
      "metadata": {
        "colab": {
          "base_uri": "https://localhost:8080/"
        },
        "id": "vghjI4WO-c9v",
        "outputId": "10495c5d-1d0d-4584-efd8-bde932920bc7"
      },
      "outputs": [
        {
          "output_type": "stream",
          "name": "stdout",
          "text": [
            "\u001b[40m\u001b[93m\u001b[1mQ1a: Passed all unit tests!\u001b[0m\n"
          ]
        }
      ],
      "source": [
        "assert original_training_data.isnull().sum().sum() == 0\n",
        "print_passed('Q1a: Passed all unit tests!')"
      ]
    },
    {
      "cell_type": "markdown",
      "metadata": {
        "id": "hDyNrsW0-c9v"
      },
      "source": [
        "### Question 1b\n",
        "\n",
        "In the cell below, print the text of the first ham (i.e. 1st row) and the first spam email in the original training set.\n",
        "\n",
        "<!--\n",
        "BEGIN QUESTION\n",
        "name: q1b\n",
        "points: 1\n",
        "-->"
      ]
    },
    {
      "cell_type": "code",
      "execution_count": null,
      "metadata": {
        "colab": {
          "base_uri": "https://localhost:8080/"
        },
        "id": "gRB6X5hP-c9w",
        "outputId": "5e8846ab-13a6-4cfa-a87a-3a64085cd393"
      },
      "outputs": [
        {
          "output_type": "stream",
          "name": "stdout",
          "text": [
            "The text of the first Ham:\n",
            "------------\n",
            "url: http://boingboing.net/#85534171\n",
            " date: not supplied\n",
            " \n",
            " arts and letters daily, a wonderful and dense blog, has folded up its tent due \n",
            " to the bankruptcy of its parent company. a&l daily will be auctioned off by the \n",
            " receivers. link[1] discuss[2] (_thanks, misha!_)\n",
            " \n",
            " [1] http://www.aldaily.com/\n",
            " [2] http://www.quicktopic.com/boing/h/zlfterjnd6jf\n",
            " \n",
            " \n",
            "\n",
            "The text of the first Spam:\n",
            "------------\n",
            "<html>\n",
            " <head>\n",
            " </head>\n",
            " <body>\n",
            " <font size=3d\"4\"><b> a man endowed with a 7-8\" hammer is simply<br>\n",
            "  better equipped than a man with a 5-6\"hammer. <br>\n",
            " <br>would you rather have<br>more than enough to get the job done or fall =\n",
            " short. it's totally up<br>to you. our methods are guaranteed to increase y=\n",
            " our size by 1-3\"<br> <a href=3d\"http://209.163.187.47/cgi-bin/index.php?10=\n",
            " 004\">come in here and see how</a>\n",
            " </body>\n",
            " </html>\n",
            " \n",
            " \n",
            " \n",
            "\n"
          ]
        }
      ],
      "source": [
        "# BEGIN YOUR CODE\n",
        "# -----------------------\n",
        "first_ham = original_training_data.loc[original_training_data['spam'] == 0, 'email'].iloc[0]\n",
        "first_spam = original_training_data.loc[original_training_data['spam'] == 1, 'email'].iloc[0]\n",
        "# -----------------------\n",
        "# END YOUR CODE\n",
        "\n",
        "print('The text of the first Ham:')\n",
        "print('------------')\n",
        "print(first_ham)\n",
        "\n",
        "print('The text of the first Spam:')\n",
        "print('------------')\n",
        "print(first_spam)"
      ]
    },
    {
      "cell_type": "code",
      "execution_count": null,
      "metadata": {
        "colab": {
          "base_uri": "https://localhost:8080/"
        },
        "id": "AEbvv1L7-c9w",
        "outputId": "16e22942-d8e1-4a60-a970-f0656f47b1e2"
      },
      "outputs": [
        {
          "output_type": "stream",
          "name": "stdout",
          "text": [
            "\u001b[40m\u001b[93m\u001b[1mQ1b: Passed all unit tests!\u001b[0m\n"
          ]
        }
      ],
      "source": [
        "assert len(first_ham) == 359 and len(first_spam) == 444\n",
        "print_passed('Q1b: Passed all unit tests!')"
      ]
    },
    {
      "cell_type": "markdown",
      "metadata": {
        "id": "ouvBVCH8-c9w"
      },
      "source": [
        "### Question 1c\n",
        "\n",
        "Discuss one thing you notice that is different between the two emails that might relate to the identification of spam.\n",
        "\n",
        "<!--\n",
        "BEGIN QUESTION\n",
        "name: q1c\n",
        "manual: True\n",
        "points: 2\n",
        "-->\n",
        "<!-- EXPORT TO PDF -->"
      ]
    },
    {
      "cell_type": "markdown",
      "metadata": {
        "id": "_PkkYtvH-c9w"
      },
      "source": [
        "Answer: 링크 포함: 스팸 이메일에는 특정 웹사이트를 방문하도록 유도하는 URL 링크가 포함되어 있을 수 있습니다. 반면에 햄 이메일에는 이런 유형의 링크가 덜 포함되어 있을 수 있습니다."
      ]
    },
    {
      "cell_type": "markdown",
      "metadata": {
        "id": "EEJ511_8-c9w"
      },
      "source": [
        "## Training Validation Split\n",
        "The training data is all the data we have available for both training models and **validating** the models that we train. We therefore need to split the training data into separate training and validation datsets. You will need this **validation data** to assess the performance of your classifier once you are finished training. \n",
        "\n",
        "Note that we set the seed (random_state) to 42. This will produce a pseudo-random sequence of random numbers that is the same for every student. **Do not modify this in the following questions, as our tests depend on this random seed.**"
      ]
    },
    {
      "cell_type": "code",
      "execution_count": null,
      "metadata": {
        "id": "Lh57_56V-c9w"
      },
      "outputs": [],
      "source": [
        "from sklearn.model_selection import train_test_split\n",
        "\n",
        "train, val = train_test_split(\n",
        "    original_training_data, test_size=0.1, random_state=42)"
      ]
    },
    {
      "cell_type": "code",
      "execution_count": null,
      "metadata": {
        "colab": {
          "base_uri": "https://localhost:8080/"
        },
        "id": "kbFU8MUl-c9x",
        "outputId": "a8f136e8-8a16-42fe-c969-e79b430fba57"
      },
      "outputs": [
        {
          "output_type": "stream",
          "name": "stdout",
          "text": [
            "(7513, 4) (835, 4)\n"
          ]
        }
      ],
      "source": [
        "print(train.shape, val.shape)   # 더해서 8342 맞음"
      ]
    },
    {
      "cell_type": "markdown",
      "metadata": {
        "id": "TMf51RV8-c9x"
      },
      "source": [
        "# Basic Feature Engineering\n",
        "\n",
        "We would like to take the text of an email and predict whether the email is **ham** or **spam**. This is a *classification* problem, and here we use logistic regression to train a classifier. \n",
        "\n",
        "Recall that to train an logistic regression model we need:\n",
        " - a numeric feature matrix $X$\n",
        " - a vector of corresponding binary labels $y$.\n",
        "\n",
        "Unfortunately, our data are text, not numbers. To address this, we can create numeric features derived from the email text and use those features for logistic regression:\n",
        " - Each row of $X$ is an email.\n",
        " - Each column of $X$ contains one feature for all the emails. \n",
        " \n",
        "We'll guide you through creating a simple feature, and you'll create more interesting ones when you are trying to increase your accuracy."
      ]
    },
    {
      "cell_type": "markdown",
      "metadata": {
        "id": "a5kzAWDe-c9x"
      },
      "source": [
        "### Question 2\n",
        "\n",
        "Create a function called `words_in_texts` that takes in a list of `words` and a pandas Series of email `texts`. It should output a 2-dimensional NumPy array containing one row for each email text. The row should contain either a 0 or a 1 for each word in the list: 0 if the word doesn't appear in the text and 1 if the word does. For example:\n",
        "\n",
        "```\n",
        ">>> words_in_texts(['hello', 'bye', 'world'], \n",
        "                   pd.Series(['hello', 'hello worldhello']))\n",
        "\n",
        "array([[1, 0, 0],\n",
        "       [1, 0, 1]])\n",
        "```\n",
        "\n",
        "**Hint**: [pandas.Series.str.contains](https://pandas.pydata.org/docs/reference/api/pandas.Series.str.contains.html)\n",
        "\n",
        "*The provided tests make sure that your function works correctly, so that you can use it for future questions.*\n",
        "\n",
        "<!--\n",
        "BEGIN QUESTION\n",
        "name: q2\n",
        "points: 3\n",
        "-->"
      ]
    },
    {
      "cell_type": "code",
      "execution_count": null,
      "metadata": {
        "id": "9OANL6hA-c9x"
      },
      "outputs": [],
      "source": [
        "def words_in_texts(words, texts):\n",
        "    '''\n",
        "    Args:\n",
        "        words (list-like): words to find\n",
        "        texts (Series): strings to search in\n",
        "    \n",
        "    Returns:\n",
        "        NumPy array of 0s and 1s with shape (n, p) where n is the\n",
        "        number of texts and p is the number of words.\n",
        "    '''\n",
        "    indicator_array = np.array([texts.str.contains(word).astype(int) for word in words]).T\n",
        "    return indicator_array"
      ]
    },
    {
      "cell_type": "code",
      "execution_count": null,
      "metadata": {
        "colab": {
          "base_uri": "https://localhost:8080/"
        },
        "id": "ghfT7JNi-c9x",
        "outputId": "be661e00-dd15-4ef2-ad83-2f782dba7fcc"
      },
      "outputs": [
        {
          "output_type": "stream",
          "name": "stdout",
          "text": [
            "\u001b[40m\u001b[93m\u001b[1mQ2: Passed all unit tests!\u001b[0m\n"
          ]
        }
      ],
      "source": [
        "assert np.allclose(\n",
        "    words_in_texts(\n",
        "        ['hello', 'bye', 'world'], \n",
        "        pd.Series(['hello', 'hello worldhello'])), \n",
        "    np.array([[1, 0, 0], [1, 0, 1]]))\n",
        "\n",
        "assert np.allclose(\n",
        "    words_in_texts(\n",
        "        ['a', 'b', 'c', 'd', 'e', 'f', 'g'], \n",
        "        pd.Series(['a b c d ef g', 'a', 'b', 'c', 'd e f g', 'h', 'a h'])), \n",
        "    np.array(\n",
        "        [[1,1,1,1,1,1,1], \n",
        "         [1,0,0,0,0,0,0],\n",
        "         [0,1,0,0,0,0,0],\n",
        "         [0,0,1,0,0,0,0],\n",
        "         [0,0,0,1,1,1,1],\n",
        "         [0,0,0,0,0,0,0],\n",
        "         [1,0,0,0,0,0,0]]))\n",
        "\n",
        "print_passed('Q2: Passed all unit tests!')"
      ]
    },
    {
      "cell_type": "markdown",
      "metadata": {
        "id": "rmMhnJmR-c9x"
      },
      "source": [
        "# Basic EDA\n",
        "\n",
        "We need to identify some features that allow us to distinguish spam emails from ham emails. One idea is to compare the distribution of a single feature in spam emails to the distribution of the same feature in ham emails. \n",
        "\n",
        "If the feature is itself a binary indicator (such as whether a certain word occurs in the text), this amounts to comparing the proportion of spam emails with the word to the proportion of ham emails with the word."
      ]
    },
    {
      "cell_type": "code",
      "execution_count": null,
      "metadata": {
        "colab": {
          "base_uri": "https://localhost:8080/",
          "height": 604
        },
        "id": "lOxun1Re-c9x",
        "outputId": "e5ff78ea-0ea0-4c1e-8901-5c3a48d3f19b"
      },
      "outputs": [
        {
          "output_type": "display_data",
          "data": {
            "text/plain": [
              "<IPython.core.display.Markdown object>"
            ],
            "text/markdown": "> Our Original DataFrame has some words column and a type column. You can think of each row is a sentence, and the value of 1 or 0 indicates the number of occurances of the word in this sentence."
          },
          "metadata": {}
        },
        {
          "output_type": "display_data",
          "data": {
            "text/plain": [
              "   word_1  word_2  type\n",
              "0       1       0  spam\n",
              "1       0       1   ham\n",
              "2       1       0   ham\n",
              "3       0       1   ham"
            ],
            "text/html": [
              "\n",
              "  <div id=\"df-a96a401a-98b5-4557-b7a3-847a4a43b66e\">\n",
              "    <div class=\"colab-df-container\">\n",
              "      <div>\n",
              "<style scoped>\n",
              "    .dataframe tbody tr th:only-of-type {\n",
              "        vertical-align: middle;\n",
              "    }\n",
              "\n",
              "    .dataframe tbody tr th {\n",
              "        vertical-align: top;\n",
              "    }\n",
              "\n",
              "    .dataframe thead th {\n",
              "        text-align: right;\n",
              "    }\n",
              "</style>\n",
              "<table border=\"1\" class=\"dataframe\">\n",
              "  <thead>\n",
              "    <tr style=\"text-align: right;\">\n",
              "      <th></th>\n",
              "      <th>word_1</th>\n",
              "      <th>word_2</th>\n",
              "      <th>type</th>\n",
              "    </tr>\n",
              "  </thead>\n",
              "  <tbody>\n",
              "    <tr>\n",
              "      <th>0</th>\n",
              "      <td>1</td>\n",
              "      <td>0</td>\n",
              "      <td>spam</td>\n",
              "    </tr>\n",
              "    <tr>\n",
              "      <th>1</th>\n",
              "      <td>0</td>\n",
              "      <td>1</td>\n",
              "      <td>ham</td>\n",
              "    </tr>\n",
              "    <tr>\n",
              "      <th>2</th>\n",
              "      <td>1</td>\n",
              "      <td>0</td>\n",
              "      <td>ham</td>\n",
              "    </tr>\n",
              "    <tr>\n",
              "      <th>3</th>\n",
              "      <td>0</td>\n",
              "      <td>1</td>\n",
              "      <td>ham</td>\n",
              "    </tr>\n",
              "  </tbody>\n",
              "</table>\n",
              "</div>\n",
              "      <button class=\"colab-df-convert\" onclick=\"convertToInteractive('df-a96a401a-98b5-4557-b7a3-847a4a43b66e')\"\n",
              "              title=\"Convert this dataframe to an interactive table.\"\n",
              "              style=\"display:none;\">\n",
              "        \n",
              "  <svg xmlns=\"http://www.w3.org/2000/svg\" height=\"24px\"viewBox=\"0 0 24 24\"\n",
              "       width=\"24px\">\n",
              "    <path d=\"M0 0h24v24H0V0z\" fill=\"none\"/>\n",
              "    <path d=\"M18.56 5.44l.94 2.06.94-2.06 2.06-.94-2.06-.94-.94-2.06-.94 2.06-2.06.94zm-11 1L8.5 8.5l.94-2.06 2.06-.94-2.06-.94L8.5 2.5l-.94 2.06-2.06.94zm10 10l.94 2.06.94-2.06 2.06-.94-2.06-.94-.94-2.06-.94 2.06-2.06.94z\"/><path d=\"M17.41 7.96l-1.37-1.37c-.4-.4-.92-.59-1.43-.59-.52 0-1.04.2-1.43.59L10.3 9.45l-7.72 7.72c-.78.78-.78 2.05 0 2.83L4 21.41c.39.39.9.59 1.41.59.51 0 1.02-.2 1.41-.59l7.78-7.78 2.81-2.81c.8-.78.8-2.07 0-2.86zM5.41 20L4 18.59l7.72-7.72 1.47 1.35L5.41 20z\"/>\n",
              "  </svg>\n",
              "      </button>\n",
              "      \n",
              "  <style>\n",
              "    .colab-df-container {\n",
              "      display:flex;\n",
              "      flex-wrap:wrap;\n",
              "      gap: 12px;\n",
              "    }\n",
              "\n",
              "    .colab-df-convert {\n",
              "      background-color: #E8F0FE;\n",
              "      border: none;\n",
              "      border-radius: 50%;\n",
              "      cursor: pointer;\n",
              "      display: none;\n",
              "      fill: #1967D2;\n",
              "      height: 32px;\n",
              "      padding: 0 0 0 0;\n",
              "      width: 32px;\n",
              "    }\n",
              "\n",
              "    .colab-df-convert:hover {\n",
              "      background-color: #E2EBFA;\n",
              "      box-shadow: 0px 1px 2px rgba(60, 64, 67, 0.3), 0px 1px 3px 1px rgba(60, 64, 67, 0.15);\n",
              "      fill: #174EA6;\n",
              "    }\n",
              "\n",
              "    [theme=dark] .colab-df-convert {\n",
              "      background-color: #3B4455;\n",
              "      fill: #D2E3FC;\n",
              "    }\n",
              "\n",
              "    [theme=dark] .colab-df-convert:hover {\n",
              "      background-color: #434B5C;\n",
              "      box-shadow: 0px 1px 3px 1px rgba(0, 0, 0, 0.15);\n",
              "      filter: drop-shadow(0px 1px 2px rgba(0, 0, 0, 0.3));\n",
              "      fill: #FFFFFF;\n",
              "    }\n",
              "  </style>\n",
              "\n",
              "      <script>\n",
              "        const buttonEl =\n",
              "          document.querySelector('#df-a96a401a-98b5-4557-b7a3-847a4a43b66e button.colab-df-convert');\n",
              "        buttonEl.style.display =\n",
              "          google.colab.kernel.accessAllowed ? 'block' : 'none';\n",
              "\n",
              "        async function convertToInteractive(key) {\n",
              "          const element = document.querySelector('#df-a96a401a-98b5-4557-b7a3-847a4a43b66e');\n",
              "          const dataTable =\n",
              "            await google.colab.kernel.invokeFunction('convertToInteractive',\n",
              "                                                     [key], {});\n",
              "          if (!dataTable) return;\n",
              "\n",
              "          const docLinkHtml = 'Like what you see? Visit the ' +\n",
              "            '<a target=\"_blank\" href=https://colab.research.google.com/notebooks/data_table.ipynb>data table notebook</a>'\n",
              "            + ' to learn more about interactive tables.';\n",
              "          element.innerHTML = '';\n",
              "          dataTable['output_type'] = 'display_data';\n",
              "          await google.colab.output.renderOutput(dataTable, element);\n",
              "          const docLink = document.createElement('div');\n",
              "          docLink.innerHTML = docLinkHtml;\n",
              "          element.appendChild(docLink);\n",
              "        }\n",
              "      </script>\n",
              "    </div>\n",
              "  </div>\n",
              "  "
            ]
          },
          "metadata": {}
        },
        {
          "output_type": "display_data",
          "data": {
            "text/plain": [
              "<IPython.core.display.Markdown object>"
            ],
            "text/markdown": "> `melt` will turn columns into variale, notice how `word_1` and `word_2` become `variable`, their values are stoed in the value column"
          },
          "metadata": {}
        },
        {
          "output_type": "display_data",
          "data": {
            "text/plain": [
              "   type variable  value\n",
              "0  spam   word_1      1\n",
              "1   ham   word_1      0\n",
              "2   ham   word_1      1\n",
              "3   ham   word_1      0\n",
              "4  spam   word_2      0\n",
              "5   ham   word_2      1\n",
              "6   ham   word_2      0\n",
              "7   ham   word_2      1"
            ],
            "text/html": [
              "\n",
              "  <div id=\"df-413a0b3b-7764-4a8a-9f4d-ac5b79707324\">\n",
              "    <div class=\"colab-df-container\">\n",
              "      <div>\n",
              "<style scoped>\n",
              "    .dataframe tbody tr th:only-of-type {\n",
              "        vertical-align: middle;\n",
              "    }\n",
              "\n",
              "    .dataframe tbody tr th {\n",
              "        vertical-align: top;\n",
              "    }\n",
              "\n",
              "    .dataframe thead th {\n",
              "        text-align: right;\n",
              "    }\n",
              "</style>\n",
              "<table border=\"1\" class=\"dataframe\">\n",
              "  <thead>\n",
              "    <tr style=\"text-align: right;\">\n",
              "      <th></th>\n",
              "      <th>type</th>\n",
              "      <th>variable</th>\n",
              "      <th>value</th>\n",
              "    </tr>\n",
              "  </thead>\n",
              "  <tbody>\n",
              "    <tr>\n",
              "      <th>0</th>\n",
              "      <td>spam</td>\n",
              "      <td>word_1</td>\n",
              "      <td>1</td>\n",
              "    </tr>\n",
              "    <tr>\n",
              "      <th>1</th>\n",
              "      <td>ham</td>\n",
              "      <td>word_1</td>\n",
              "      <td>0</td>\n",
              "    </tr>\n",
              "    <tr>\n",
              "      <th>2</th>\n",
              "      <td>ham</td>\n",
              "      <td>word_1</td>\n",
              "      <td>1</td>\n",
              "    </tr>\n",
              "    <tr>\n",
              "      <th>3</th>\n",
              "      <td>ham</td>\n",
              "      <td>word_1</td>\n",
              "      <td>0</td>\n",
              "    </tr>\n",
              "    <tr>\n",
              "      <th>4</th>\n",
              "      <td>spam</td>\n",
              "      <td>word_2</td>\n",
              "      <td>0</td>\n",
              "    </tr>\n",
              "    <tr>\n",
              "      <th>5</th>\n",
              "      <td>ham</td>\n",
              "      <td>word_2</td>\n",
              "      <td>1</td>\n",
              "    </tr>\n",
              "    <tr>\n",
              "      <th>6</th>\n",
              "      <td>ham</td>\n",
              "      <td>word_2</td>\n",
              "      <td>0</td>\n",
              "    </tr>\n",
              "    <tr>\n",
              "      <th>7</th>\n",
              "      <td>ham</td>\n",
              "      <td>word_2</td>\n",
              "      <td>1</td>\n",
              "    </tr>\n",
              "  </tbody>\n",
              "</table>\n",
              "</div>\n",
              "      <button class=\"colab-df-convert\" onclick=\"convertToInteractive('df-413a0b3b-7764-4a8a-9f4d-ac5b79707324')\"\n",
              "              title=\"Convert this dataframe to an interactive table.\"\n",
              "              style=\"display:none;\">\n",
              "        \n",
              "  <svg xmlns=\"http://www.w3.org/2000/svg\" height=\"24px\"viewBox=\"0 0 24 24\"\n",
              "       width=\"24px\">\n",
              "    <path d=\"M0 0h24v24H0V0z\" fill=\"none\"/>\n",
              "    <path d=\"M18.56 5.44l.94 2.06.94-2.06 2.06-.94-2.06-.94-.94-2.06-.94 2.06-2.06.94zm-11 1L8.5 8.5l.94-2.06 2.06-.94-2.06-.94L8.5 2.5l-.94 2.06-2.06.94zm10 10l.94 2.06.94-2.06 2.06-.94-2.06-.94-.94-2.06-.94 2.06-2.06.94z\"/><path d=\"M17.41 7.96l-1.37-1.37c-.4-.4-.92-.59-1.43-.59-.52 0-1.04.2-1.43.59L10.3 9.45l-7.72 7.72c-.78.78-.78 2.05 0 2.83L4 21.41c.39.39.9.59 1.41.59.51 0 1.02-.2 1.41-.59l7.78-7.78 2.81-2.81c.8-.78.8-2.07 0-2.86zM5.41 20L4 18.59l7.72-7.72 1.47 1.35L5.41 20z\"/>\n",
              "  </svg>\n",
              "      </button>\n",
              "      \n",
              "  <style>\n",
              "    .colab-df-container {\n",
              "      display:flex;\n",
              "      flex-wrap:wrap;\n",
              "      gap: 12px;\n",
              "    }\n",
              "\n",
              "    .colab-df-convert {\n",
              "      background-color: #E8F0FE;\n",
              "      border: none;\n",
              "      border-radius: 50%;\n",
              "      cursor: pointer;\n",
              "      display: none;\n",
              "      fill: #1967D2;\n",
              "      height: 32px;\n",
              "      padding: 0 0 0 0;\n",
              "      width: 32px;\n",
              "    }\n",
              "\n",
              "    .colab-df-convert:hover {\n",
              "      background-color: #E2EBFA;\n",
              "      box-shadow: 0px 1px 2px rgba(60, 64, 67, 0.3), 0px 1px 3px 1px rgba(60, 64, 67, 0.15);\n",
              "      fill: #174EA6;\n",
              "    }\n",
              "\n",
              "    [theme=dark] .colab-df-convert {\n",
              "      background-color: #3B4455;\n",
              "      fill: #D2E3FC;\n",
              "    }\n",
              "\n",
              "    [theme=dark] .colab-df-convert:hover {\n",
              "      background-color: #434B5C;\n",
              "      box-shadow: 0px 1px 3px 1px rgba(0, 0, 0, 0.15);\n",
              "      filter: drop-shadow(0px 1px 2px rgba(0, 0, 0, 0.3));\n",
              "      fill: #FFFFFF;\n",
              "    }\n",
              "  </style>\n",
              "\n",
              "      <script>\n",
              "        const buttonEl =\n",
              "          document.querySelector('#df-413a0b3b-7764-4a8a-9f4d-ac5b79707324 button.colab-df-convert');\n",
              "        buttonEl.style.display =\n",
              "          google.colab.kernel.accessAllowed ? 'block' : 'none';\n",
              "\n",
              "        async function convertToInteractive(key) {\n",
              "          const element = document.querySelector('#df-413a0b3b-7764-4a8a-9f4d-ac5b79707324');\n",
              "          const dataTable =\n",
              "            await google.colab.kernel.invokeFunction('convertToInteractive',\n",
              "                                                     [key], {});\n",
              "          if (!dataTable) return;\n",
              "\n",
              "          const docLinkHtml = 'Like what you see? Visit the ' +\n",
              "            '<a target=\"_blank\" href=https://colab.research.google.com/notebooks/data_table.ipynb>data table notebook</a>'\n",
              "            + ' to learn more about interactive tables.';\n",
              "          element.innerHTML = '';\n",
              "          dataTable['output_type'] = 'display_data';\n",
              "          await google.colab.output.renderOutput(dataTable, element);\n",
              "          const docLink = document.createElement('div');\n",
              "          docLink.innerHTML = docLinkHtml;\n",
              "          element.appendChild(docLink);\n",
              "        }\n",
              "      </script>\n",
              "    </div>\n",
              "  </div>\n",
              "  "
            ]
          },
          "metadata": {}
        }
      ],
      "source": [
        "from IPython.display import display, Markdown\n",
        "df = pd.DataFrame({\n",
        "    'word_1': [1, 0, 1, 0],\n",
        "    'word_2': [0, 1, 0, 1],\n",
        "    'type': ['spam', 'ham', 'ham', 'ham']\n",
        "})\n",
        "display(Markdown(\"> Our Original DataFrame has some words column and a type column. You can think of each row is a sentence, and the value of 1 or 0 indicates the number of occurances of the word in this sentence.\"))\n",
        "display(df);\n",
        "display(Markdown(\"> `melt` will turn columns into variale, notice how `word_1` and `word_2` become `variable`, their values are stoed in the value column\"))\n",
        "display(df.melt(\"type\"))"
      ]
    },
    {
      "cell_type": "markdown",
      "metadata": {
        "id": "u1ng79qh-c9y"
      },
      "source": [
        "We can create a bar chart like the one above comparing the proportion of spam and ham emails containing certain words. Choose a set of words that are different from the ones above, but also have different proportions for the two classes. Make sure that we only consider emails from `train`.\n",
        "\n",
        "<!--\n",
        "BEGIN QUESTION\n",
        "name: q3a\n",
        "manual: True\n",
        "format: image\n",
        "points: 2\n",
        "-->\n",
        "<!-- EXPORT TO PDF format:image -->"
      ]
    },
    {
      "cell_type": "code",
      "execution_count": null,
      "metadata": {
        "colab": {
          "base_uri": "https://localhost:8080/",
          "height": 646
        },
        "id": "kCRGFEby-c9y",
        "outputId": "f4ac4765-ad79-4008-c435-c51406bd0e22"
      },
      "outputs": [
        {
          "output_type": "display_data",
          "data": {
            "text/plain": [
              "<Figure size 800x800 with 1 Axes>"
            ],
            "image/png": "[encoded data removed]"
          },
          "metadata": {}
        }
      ],
      "source": [
        "# We must do this in order to preserve the ordering of emails to labels for words_in_texts\n",
        "train=train.reset_index(drop=True) \n",
        "\n",
        "some_words = ['body', 'html', 'please', 'money', 'business', 'offer']\n",
        "Phi_train = words_in_texts(some_words, train['email'])\n",
        "\n",
        "df = pd.DataFrame(data = Phi_train, columns = some_words)\n",
        "df['label'] = train['spam']\n",
        "\n",
        "plt.figure(figsize=(8,8))\n",
        "sns.barplot(x = \"variable\", \n",
        "            y = \"value\", \n",
        "            hue = \"label\", \n",
        "            data = (df\n",
        "                    .replace({'label': \n",
        "                                {0 : 'Ham', \n",
        "                                 1 : 'Spam'}})\n",
        "                    .melt('label')\n",
        "                    .groupby(['label', 'variable'])\n",
        "                    .mean()\n",
        "                    .reset_index()))\n",
        "\n",
        "plt.ylim([0, 1])\n",
        "plt.xlabel('Words')\n",
        "plt.ylabel('Proportion of Emails')\n",
        "plt.legend(title = \"\")\n",
        "plt.title(\"Frequency of Words in Spam/Ham Emails\")\n",
        "plt.tight_layout()\n",
        "plt.show()"
      ]
    },
    {
      "cell_type": "markdown",
      "source": [
        "그림이 잘려서 결과를 캡처하여 이미지를 첨부하였음.\n"
      ],
      "metadata": {
        "id": "ZJzTO0mQCavE"
      }
    },
    {
      "cell_type": "markdown",
      "source": [
        "![1.png](data:image/png;base64,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)"
      ],
      "metadata": {
        "id": "jkRVGmCRB15_"
      }
    },
    {
      "cell_type": "markdown",
      "metadata": {
        "id": "B6iIHbGL-c9y"
      },
      "source": [
        "### Question 3\n",
        "\n",
        "When the feature is binary, it makes sense to compare its proportions across classes (as in the previous question). Otherwise, if the feature can take on numeric values, we can compare the distributions of these values for different classes. \n",
        "\n",
        "Create a *class conditional density plot* like the one above (using `sns.distplot`), comparing the distribution of the length of spam emails to the distribution of the length of ham emails in the training set. Set the x-axis limit from 0 to 50000.\n",
        "\n",
        "<!--\n",
        "BEGIN QUESTION\n",
        "name: q3b\n",
        "manual: True\n",
        "format: image\n",
        "points: 2\n",
        "-->\n",
        "<!-- EXPORT TO PDF format:image -->"
      ]
    },
    {
      "cell_type": "code",
      "execution_count": null,
      "metadata": {
        "colab": {
          "base_uri": "https://localhost:8080/",
          "height": 385
        },
        "id": "WOhTQJkM-c9y",
        "outputId": "91ddef73-7b07-4044-b09f-bd3fa2c1832d"
      },
      "outputs": [
        {
          "output_type": "display_data",
          "data": {
            "text/plain": [
              "<Figure size 1000x600 with 1 Axes>"
            ],
            "image/png": "[encoded data removed]"
          },
          "metadata": {}
        }
      ],
      "source": [
        "import warnings\n",
        "warnings.filterwarnings(action='ignore') # 그림이 잘려서 경고 문구 제거함\n",
        "\n",
        "train['email_length'] = train['email'].apply(len)\n",
        "spam_lengths = train[train['spam'] == 1]['email_length']\n",
        "ham_lengths = train[train['spam'] == 0]['email_length']\n",
        "\n",
        "plt.figure(figsize=(10, 6))\n",
        "\n",
        "sns.distplot(spam_lengths, hist = False, kde = True, \n",
        "             kde_kws = {'shade': True, 'linewidth': 3}, \n",
        "             label = \"Spam\")\n",
        "\n",
        "sns.distplot(ham_lengths, hist = False, kde = True,\n",
        "             kde_kws = {'shade': True, 'linewidth': 3}, \n",
        "             label = \"Ham\")\n",
        "\n",
        "plt.xlim([0, 50000])\n",
        "\n",
        "plt.xlabel('Length of email body')\n",
        "plt.ylabel('Density')\n",
        "plt.title('Distribution of Email Body Length')\n",
        "plt.legend()\n",
        "\n",
        "plt.show()\n"
      ]
    },
    {
      "cell_type": "markdown",
      "metadata": {
        "id": "kGxhfFNy-c9y"
      },
      "source": [
        "## Basic Classification\n",
        "\n",
        "Notice that the output of `words_in_texts(words, train['email'])` is a numeric matrix containing features for each email. This means we can use it directly to train a classifier!"
      ]
    },
    {
      "cell_type": "markdown",
      "metadata": {
        "id": "AWxulxZ2-c9y"
      },
      "source": [
        "### Question 4\n",
        "\n",
        "We've given you 5 words that might be useful as features to distinguish spam/ham emails. Use these words as well as the `train` DataFrame to create two NumPy arrays: `X_train` and `Y_train`.\n",
        "\n",
        "- `X_train` should be a matrix of 0s and 1s created by using your `words_in_texts` function on all the emails in the training set.\n",
        "\n",
        "- `Y_train` should be a vector of the correct labels for each email in the training set.\n",
        "\n",
        "*The provided tests check that the dimensions of your feature matrix (X) are correct, and that your features and labels are binary (i.e. consists of 0 and 1, no other values). It does not check that your function is correct; that was verified in a previous question.*\n",
        "\n",
        "<!--\n",
        "BEGIN QUESTION\n",
        "name: q4\n",
        "points: 2\n",
        "-->"
      ]
    },
    {
      "cell_type": "code",
      "execution_count": null,
      "metadata": {
        "colab": {
          "base_uri": "https://localhost:8080/"
        },
        "id": "Q2iQ0YrI-c9y",
        "outputId": "0937d07c-e8bb-47e4-8171-d79c72e2c548"
      },
      "outputs": [
        {
          "output_type": "execute_result",
          "data": {
            "text/plain": [
              "(array([[0, 0, 0, 0, 0],\n",
              "        [0, 0, 0, 0, 0],\n",
              "        [0, 0, 0, 0, 0],\n",
              "        [0, 0, 0, 0, 0],\n",
              "        [0, 0, 0, 1, 0]]),\n",
              " array([0, 0, 0, 0, 0]))"
            ]
          },
          "metadata": {},
          "execution_count": 28
        }
      ],
      "source": [
        "some_words = ['drug', 'bank', 'prescription', 'memo', 'private']\n",
        "\n",
        "X_train = words_in_texts(some_words, train['email'])\n",
        "\n",
        "Y_train = train['spam'].values\n",
        "\n",
        "X_train[:5], Y_train[:5]"
      ]
    },
    {
      "cell_type": "code",
      "execution_count": null,
      "metadata": {
        "colab": {
          "base_uri": "https://localhost:8080/"
        },
        "id": "A9sVGEvx-c9y",
        "outputId": "7a052d88-6234-49c9-ec6e-fb67536294f1"
      },
      "outputs": [
        {
          "output_type": "stream",
          "name": "stdout",
          "text": [
            "\u001b[40m\u001b[93m\u001b[1mQ4: Passed all unit tests!\u001b[0m\n"
          ]
        }
      ],
      "source": [
        "assert X_train.shape == (7513, 5)\n",
        "assert len(np.unique(X_train)) == 2\n",
        "assert len(np.unique(Y_train)) == 2\n",
        "\n",
        "print_passed('Q4: Passed all unit tests!')"
      ]
    },
    {
      "cell_type": "markdown",
      "metadata": {
        "id": "s5zxFW5J-c9y"
      },
      "source": [
        "### Question 5\n",
        "\n",
        "Now we have matrices we can give to scikit-learn! \n",
        "\n",
        "- Using the [`LogisticRegression`](http://scikit-learn.org/stable/modules/generated/sklearn.linear_model.LogisticRegression.html) classifier, train a logistic regression model using `X_train` and `Y_train`.\n",
        "- Then, output the accuracy of the model (on the training data) in the cell below. You should get an accuracy around 75\\%.\n",
        "\n",
        "<!--\n",
        "BEGIN QUESTION\n",
        "name: q5\n",
        "points: 2\n",
        "-->"
      ]
    },
    {
      "cell_type": "code",
      "execution_count": null,
      "metadata": {
        "id": "VL7_VYxL-c9y"
      },
      "outputs": [],
      "source": [
        "from sklearn.linear_model import LogisticRegression\n",
        "\n",
        "model = LogisticRegression()\n",
        "model.fit(X_train, Y_train)\n",
        "\n",
        "training_accuracy = model.score(X_train, Y_train)"
      ]
    },
    {
      "cell_type": "code",
      "execution_count": null,
      "metadata": {
        "colab": {
          "base_uri": "https://localhost:8080/"
        },
        "id": "T4LqNCSb-c9z",
        "outputId": "af63f641-eec4-45aa-d37b-2dfa314318bc"
      },
      "outputs": [
        {
          "output_type": "stream",
          "name": "stdout",
          "text": [
            "\u001b[40m\u001b[93m\u001b[1mQ5: Passed all unit tests!\u001b[0m\n"
          ]
        }
      ],
      "source": [
        "assert training_accuracy > 0.72\n",
        "print_passed('Q5: Passed all unit tests!')"
      ]
    },
    {
      "cell_type": "markdown",
      "metadata": {
        "id": "3jv3rfgv-c9z"
      },
      "source": [
        "## Evaluating Classifiers"
      ]
    },
    {
      "cell_type": "markdown",
      "metadata": {
        "id": "mEVZsTjS-c9z"
      },
      "source": [
        "That doesn't seem too shabby! But the classifier you made above isn't as good as this might lead us to believe. First, we are evaluating accuracy on the training set, which may lead to a misleading accuracy measure, especially if we used the training set to identify discriminative features. In future parts of this analysis, it will be safer to hold out some of our data for model validation and comparison.\n",
        "\n",
        "Presumably, our classifier will be used for **filtering**, i.e. preventing messages labeled `spam` from reaching someone's inbox. There are two kinds of errors we can make:\n",
        "- False positive (FP): a ham email gets flagged as spam and filtered out of the inbox.\n",
        "- False negative (FN): a spam email gets mislabeled as ham and ends up in the inbox.\n",
        "\n",
        "These definitions depend both on the true labels and the predicted labels. False positives and false negatives may be of differing importance, leading us to consider more ways of evaluating a classifier, in addition to overall accuracy:\n",
        "\n",
        "**Precision** measures the proportion $\\frac{\\text{TP}}{\\text{TP} + \\text{FP}}$ of emails flagged as spam that are actually spam.\n",
        "\n",
        "**Recall** measures the proportion $\\frac{\\text{TP}}{\\text{TP} + \\text{FN}}$ of spam emails that were correctly flagged as spam. \n",
        "\n",
        "**False-alarm rate** measures the proportion $\\frac{\\text{FP}}{\\text{FP} + \\text{TN}}$ of ham emails that were incorrectly flagged as spam. \n",
        "\n",
        "The following image might help:\n",
        "\n",
        "<img src=\"https://upload.wikimedia.org/wikipedia/commons/thumb/2/26/Precisionrecall.svg/700px-Precisionrecall.svg.png\" width=\"500px\">\n",
        "\n",
        "Note that a true positive (TP) is a spam email that is classified as spam, and a true negative (TN) is a ham email that is classified as ham."
      ]
    },
    {
      "cell_type": "markdown",
      "metadata": {
        "id": "TikK5QTS-c9z"
      },
      "source": [
        "### Question 6a\n",
        "\n",
        "Suppose we have a classifier `zero_predictor` that always predicts 0 (never predicts positive). How many false positives and false negatives would this classifier have if it were evaluated on the training set and its results were compared to `Y_train`? Fill in the variables below (answers can be hard-coded):\n",
        "\n",
        "<!--\n",
        "BEGIN QUESTION\n",
        "name: q6a\n",
        "points: 1\n",
        "-->"
      ]
    },
    {
      "cell_type": "code",
      "execution_count": null,
      "metadata": {
        "id": "UH8R7hKj-c9z"
      },
      "outputs": [],
      "source": [
        "# BEGIN YOUR CODE\n",
        "# -----------------------\n",
        "zero_predictor_fp = 0\n",
        "zero_predictor_fn = sum(Y_train == 1) \n",
        "# -----------------------\n",
        "# END YOUR CODE"
      ]
    },
    {
      "cell_type": "code",
      "execution_count": null,
      "metadata": {
        "colab": {
          "base_uri": "https://localhost:8080/"
        },
        "id": "_n0eCG3p-c9z",
        "outputId": "609819dc-12cc-4f01-d6ac-6a53854c3871"
      },
      "outputs": [
        {
          "output_type": "stream",
          "name": "stdout",
          "text": [
            "\u001b[40m\u001b[93m\u001b[1mQ6a: Passed all unit tests!\u001b[0m\n"
          ]
        }
      ],
      "source": [
        "assert zero_predictor_fp + zero_predictor_fn == 1918\n",
        "print_passed('Q6a: Passed all unit tests!')"
      ]
    },
    {
      "cell_type": "markdown",
      "metadata": {
        "id": "EwZ7pTRx-c9z"
      },
      "source": [
        "### Question 6b\n",
        "\n",
        "What are the accuracy and recall of `zero_predictor` (classifies every email as ham) on the training set? Do NOT use any `sklearn` functions.\n",
        "\n",
        "<!--\n",
        "BEGIN QUESTION\n",
        "name: q6b\n",
        "points: 1\n",
        "-->"
      ]
    },
    {
      "cell_type": "code",
      "execution_count": null,
      "metadata": {
        "id": "8QNmzlhq-c9z"
      },
      "outputs": [],
      "source": [
        "# BEGIN YOUR CODE\n",
        "# -----------------------\n",
        "zero_predictor_acc = sum(Y_train == 0) / len(Y_train)\n",
        "zero_predictor_recall = 0\n",
        "# -----------------------\n",
        "# END YOUR CODE"
      ]
    },
    {
      "cell_type": "code",
      "execution_count": null,
      "metadata": {
        "colab": {
          "base_uri": "https://localhost:8080/"
        },
        "id": "ruHICzWJ-c9z",
        "outputId": "1e850084-f33b-46a6-a468-cd530b34b123"
      },
      "outputs": [
        {
          "output_type": "stream",
          "name": "stdout",
          "text": [
            "\u001b[40m\u001b[93m\u001b[1mQ6b: Passed all unit tests!\u001b[0m\n"
          ]
        }
      ],
      "source": [
        "assert np.isclose(zero_predictor_acc + zero_predictor_recall, 0.7447091707706642)\n",
        "print_passed('Q6b: Passed all unit tests!')"
      ]
    },
    {
      "cell_type": "markdown",
      "metadata": {
        "id": "9iX-Z_qX-c9z"
      },
      "source": [
        "### Question 6c\n",
        "\n",
        "Compute the precision, recall, and false-alarm rate of the `LogisticRegression` classifier created and trained in Question 5. **Note: Do NOT use any `sklearn` built-in functions.**\n",
        "\n",
        "<!--\n",
        "BEGIN QUESTION\n",
        "name: q6d\n",
        "points: 2\n",
        "-->"
      ]
    },
    {
      "cell_type": "code",
      "execution_count": null,
      "metadata": {
        "id": "WmM7bi3g-c9z"
      },
      "outputs": [],
      "source": [
        "# BEGIN YOUR CODE\n",
        "# -----------------------\n",
        "Y_train_pred = model.predict(X_train)\n",
        "\n",
        "TP = sum((Y_train_pred == 1) & (Y_train == 1))\n",
        "FP = sum((Y_train_pred == 1) & (Y_train == 0))\n",
        "FN = sum((Y_train_pred == 0) & (Y_train == 1))\n",
        "TN = sum((Y_train_pred == 0) & (Y_train == 0))\n",
        "\n",
        "logistic_predictor_precision = TP / (TP + FP)\n",
        "logistic_predictor_recall = TP / (TP + FN)\n",
        "logistic_predictor_far = FP / (FP + TN)\n",
        "\n",
        "# -----------------------\n",
        "# END YOUR CODE"
      ]
    },
    {
      "cell_type": "code",
      "execution_count": null,
      "metadata": {
        "colab": {
          "base_uri": "https://localhost:8080/"
        },
        "id": "l1ksLYsZ-c9z",
        "outputId": "dd001ad9-f6e2-454d-a5cf-110af397b91f"
      },
      "outputs": [
        {
          "output_type": "stream",
          "name": "stdout",
          "text": [
            "\u001b[40m\u001b[93m\u001b[1mQ6c: Passed all unit tests!\u001b[0m\n"
          ]
        }
      ],
      "source": [
        "assert np.isclose(logistic_predictor_precision, 0.6422287390029325)\n",
        "assert np.isclose(logistic_predictor_recall, 0.11418143899895725)\n",
        "assert np.isclose(logistic_predictor_far, 0.021805183199285077)\n",
        "print_passed('Q6c: Passed all unit tests!')"
      ]
    },
    {
      "cell_type": "markdown",
      "metadata": {
        "id": "SgF9D88T-c9z"
      },
      "source": [
        "### Question 6d\n",
        "\n",
        "1. Our logistic regression classifier got 75.6% prediction accuracy (number of correct predictions / total). How does this compare with predicting 0 for every email?\n",
        "1. Given the word features we gave you above, name one reason this classifier is performing poorly. Hint: Think about how prevalent these words are in the email set.\n",
        "1. Which of these two classifiers would you prefer for a spam filter and why? Describe your reasoning and relate it to at least one of the evaluation metrics you have computed so far.\n",
        "\n",
        "<!--\n",
        "BEGIN QUESTION\n",
        "name: q6f\n",
        "manual: True\n",
        "points: 3\n",
        "-->\n",
        "<!-- EXPORT TO PDF -->"
      ]
    },
    {
      "cell_type": "markdown",
      "metadata": {
        "id": "xDhUZqqt-c9z"
      },
      "source": [
        "Answer: \n",
        "1. 75.6%의 예측 정확도는 모든 이메일에 대해 0을 예측하는 것에 비해 더 나은 결과입니다. 0을 항상 예측하는 분류기는 모든 스팸 이메일을 잡아내지 못하므로 이메일이 스팸인 경우 무조건 잘못된 예측을 하게 됩니다. 따라서 이 경우의 예측 정확도는 스팸 이메일의 비율에 따라 달라지며, 이 데이터 세트에서는 스팸 이메일의 비율이 25.4%이므로 0을 예측하는 분류기의 정확도는 74.6%입니다. 따라서 로지스틱 회귀 분류기가 더 나은 성능을 보입니다.\n",
        "\n",
        "2. 주어진 단어 피처는 이메일 세트에서 그리 흔하지 않을 수 있습니다. 'drug', 'bank', 'prescription', 'memo', 'private' 등의 단어는 일반적으로 스팸 이메일에서 자주 나타나지 않을 수 있으며, 따라서 이들을 피처로 사용하는 것은 스팸을 정확하게 분류하는 데 크게 도움이 되지 않을 수 있습니다. 이로 인해 분류기의 성능이 저하될 수 있습니다.\n",
        "\n",
        "3. 분류기를 선택할 때는 여러 요소를 고려해야 합니다. 예를 들어, 스팸 필터의 경우 거짓 양성(FP)의 수를 줄이는 것이 중요할 수 있습니다. 로지스틱 회귀 분류기는 스팸을 더 잘 감지하므로 리콜이 높지만, 이로 인해 거짓 양성률이 높아질 수 있습니다. 반면에 항상 0을 예측하는 분류기는 거짓 양성을 생성하지 않지만, 모든 스팸 메일을 놓치므로 리콜이 매우 낮습니다. 이와 같은 상황에서는 어떤 종류의 오류가 더 피해야 하는지에 따라 분류기를 선택해야 합니다. 전반적으로, 로지스틱 회귀 분류기가 더 나은 정확도와 리콜을 제공하므로, 오류를 더 고려하여 분류기를 선택하는 경우 이를 선호할 수 있습니다.\n"
      ]
    },
    {
      "cell_type": "markdown",
      "metadata": {
        "id": "HVm_NmgG-c9z"
      },
      "source": [
        "# Part II - Moving Forward\n",
        "\n",
        "With this in mind, it is now your task to make the spam filter more accurate. In order to get full credit on the accuracy part of this assignment, you must get at least **88%** accuracy on the `validation` set.\n",
        "\n",
        "Here are some ideas for improving your model:\n",
        "\n",
        "1. Finding better features based on the email text. Some example features are:\n",
        "    1. Number of characters in the subject / body\n",
        "    1. Number of words in the subject / body\n",
        "    1. Use of punctuation (e.g., how many '!' were there?)\n",
        "    1. Number / percentage of capital letters \n",
        "    1. Whether the email is a reply to an earlier email or a forwarded email\n",
        "1. Finding better words to use as features. Which words are the best at distinguishing emails? This requires digging into the email text itself. \n",
        "1. Better data processing. For example, many emails contain HTML as well as text. You can consider extracting out the text from the HTML to help you find better words. Or, you can match HTML tags themselves, or even some combination of the two.\n",
        "1. Model selection. You can adjust parameters of your model (e.g. the regularization parameter) to achieve higher accuracy. Recall that you should use cross-validation to do feature and model selection properly! Otherwise, you will likely overfit to your training data.\n",
        "\n",
        "You may use whatever method you prefer in order to create features, but **you are not allowed to import any external feature extraction libraries**. In addition, **you are only allowed to train logistic regression models**. No random forests, k-nearest-neighbors, neural nets, etc."
      ]
    },
    {
      "cell_type": "markdown",
      "metadata": {
        "id": "6YXT9eVw-c90"
      },
      "source": [
        "### Question 7: EDA\n",
        "\n",
        "In the cell below, show a visualization that you used to select features for your model. Include both\n",
        "\n",
        "1. A plot showing something meaningful about the data that helped you during feature / model selection.\n",
        "2. 2-3 sentences describing what you plotted and what its implications are for your features.\n",
        "\n",
        "Feel free to create as many plots as you want in your process of feature selection, but select one for the response cell below.\n",
        "\n",
        "**You should not just produce an identical visualization to question 3.** Specifically, don't show us a bar chart of proportions, or a one-dimensional class-conditional density plot. Any other plot is acceptable, as long as it comes with thoughtful commentary. Here are some ideas:\n",
        "\n",
        "1. Consider the correlation between multiple features (look up correlation plots and `sns.heatmap`). \n",
        "1. Try to show redundancy in a group of features (e.g. `body` and `html` might co-occur relatively frequently, or you might be able to design a feature that captures all html tags and compare it to these). \n",
        "1. Visualize which words have high or low values for some useful statistic.\n",
        "1. Visually depict whether spam emails tend to be wordier (in some sense) than ham emails."
      ]
    },
    {
      "cell_type": "markdown",
      "metadata": {
        "id": "w4dBsZ3L-c90"
      },
      "source": [
        "Generate your visualization in the cell below and provide your description in a comment.\n",
        "\n",
        "<!--\n",
        "BEGIN QUESTION\n",
        "name: q8\n",
        "manual: True\n",
        "format: image\n",
        "points: 6\n",
        "-->\n",
        "<!-- EXPORT TO PDF format:image -->"
      ]
    },
    {
      "cell_type": "code",
      "execution_count": null,
      "metadata": {
        "id": "fFwkgESs-c90"
      },
      "outputs": [],
      "source": [
        "# Write your description (2-3 sentences) as a comment here:\n",
        "# \n",
        "#\n",
        "#\n",
        "\n",
        "# Write the code to generate your visualization here:\n",
        "..."
      ]
    },
    {
      "cell_type": "markdown",
      "metadata": {
        "id": "ltSWEnms-c90"
      },
      "source": [
        "### Question 8: Precision-Recall Curve\n",
        "\n",
        "We can trade off between precision and recall. In most cases we won't be able to get both perfect precision (i.e. no false positives) and recall (i.e. no false negatives), so we have to compromise.\n",
        "\n",
        "Recall that logistic regression calculates the probability that an example belongs to a certain class. \n",
        "* Then, to classify an example we say that an email is spam if our classifier gives it $\\ge 0.5$ probability of being spam. \n",
        "* However, *we can adjust that cutoff*: we can say that an email is spam only if our classifier gives it $\\ge 0.7$ probability of being spam. \n",
        "\n",
        "This is how we can trade off false positives and false negatives. The precision-recall curve shows this trade off for each possible cutoff probability. In the cell below, [plot a precision-recall curve](http://scikit-learn.org/stable/auto_examples/model_selection/plot_precision_recall.html#plot-the-precision-recall-curve) for your final classifier.\n",
        "\n",
        "<!--\n",
        "BEGIN QUESTION\n",
        "name: q9\n",
        "manual: True\n",
        "points: 3\n",
        "-->\n",
        "<!-- EXPORT TO PDF -->"
      ]
    },
    {
      "cell_type": "code",
      "execution_count": null,
      "metadata": {
        "colab": {
          "base_uri": "https://localhost:8080/"
        },
        "id": "nvi9Qw-U-c90",
        "outputId": "5cdf170b-22ed-4d29-a351-ab0163c62aaf"
      },
      "outputs": [
        {
          "output_type": "display_data",
          "data": {
            "text/plain": [
              "<Figure size 800x600 with 1 Axes>"
            ],
            "image/png": "[encoded data removed]"
          },
          "metadata": {}
        }
      ],
      "source": [
        "from sklearn.metrics import precision_recall_curve\n",
        "\n",
        "y_scores = model.predict_proba(X_train)[:, 1] \n",
        "\n",
        "precision, recall, thresholds = precision_recall_curve(Y_train, y_scores)\n",
        "\n",
        "plt.figure(figsize=(8, 6))\n",
        "plt.plot(recall, precision, label='Logistic Regression')\n",
        "plt.xlabel('Recall')\n",
        "plt.ylabel('Precision')\n",
        "plt.title('Precision-Recall Curve')\n",
        "plt.legend(loc='lower left')\n",
        "plt.show()"
      ]
    },
    {
      "cell_type": "markdown",
      "metadata": {
        "id": "DACE1sh--c90"
      },
      "source": [
        "### Congratulations! You have completed HW 3.\n",
        "\n",
        "Make sure you have run all cells in your notebook in order before running the cell below, so that all images/graphs appear in the output.,\n",
        "\n",
        "**Please save before submitting!**\n",
        "\n",
        "Please generate pdf as follows and submit it to Gradescope.\n",
        "\n",
        "**File > Print Preview > Print > Save as pdf**\n",
        "\n",
        "<!-- EXPECT 9 EXPORTED QUESTIONS -->"
      ]
    },
    {
      "cell_type": "code",
      "execution_count": null,
      "metadata": {
        "id": "5r5cw1gh8w-H"
      },
      "outputs": [],
      "source": []
    }
  ],
  "metadata": {
    "colab": {
      "provenance": [],
      "include_colab_link": true
    },
    "kernelspec": {
      "display_name": "Python 3",
      "language": "python",
      "name": "python3"
    },
    "language_info": {
      "codemirror_mode": {
        "name": "ipython",
        "version": 3
      },
      "file_extension": ".py",
      "mimetype": "text/x-python",
      "name": "python",
      "nbconvert_exporter": "python",
      "pygments_lexer": "ipython3",
      "version": "3.8.10"
    },
    "toc": {
      "base_numbering": 1,
      "nav_menu": {},
      "number_sections": false,
      "sideBar": true,
      "skip_h1_title": false,
      "title_cell": "Table of Contents",
      "title_sidebar": "Contents",
      "toc_cell": false,
      "toc_position": {},
      "toc_section_display": true,
      "toc_window_display": false
    }
  },
  "nbformat": 4,
  "nbformat_minor": 0
}